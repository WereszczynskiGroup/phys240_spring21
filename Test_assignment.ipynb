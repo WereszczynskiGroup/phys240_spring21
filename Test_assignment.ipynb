{
  "nbformat": 4,
  "nbformat_minor": 0,
  "metadata": {
    "colab": {
      "name": "Test_assignment.ipynb",
      "provenance": [],
      "collapsed_sections": []
    },
    "kernelspec": {
      "name": "python3",
      "display_name": "Python 3"
    }
  },
  "cells": [
    {
      "cell_type": "markdown",
      "metadata": {
        "id": "UbyhcuFSqlZH"
      },
      "source": [
        "This is a test document.  It implements the equation $x=y+z$.  Note that I can play with latex equations and do more fun things, such as $W=\\int F\\cdot dx$"
      ]
    },
    {
      "cell_type": "markdown",
      "metadata": {
        "id": "GJOhm7GH2FnP"
      },
      "source": [
        ""
      ]
    },
    {
      "cell_type": "code",
      "metadata": {
        "colab": {
          "base_uri": "https://localhost:8080/"
        },
        "id": "YQqxcQPrqj-c",
        "outputId": "65876771-8ca4-48c7-d0f8-105d61583bcf"
      },
      "source": [
        "y=5\n",
        "z=4\n",
        "x=y+z\n",
        "print(x)"
      ],
      "execution_count": null,
      "outputs": [
        {
          "output_type": "stream",
          "text": [
            "9\n"
          ],
          "name": "stdout"
        }
      ]
    },
    {
      "cell_type": "markdown",
      "metadata": {
        "id": "bsY3IuLPtmrB"
      },
      "source": [
        "To do: Fill in some similar equation below:"
      ]
    },
    {
      "cell_type": "code",
      "metadata": {
        "id": "r2hX8uzVq_z4"
      },
      "source": [
        ""
      ],
      "execution_count": null,
      "outputs": []
    }
  ]
}