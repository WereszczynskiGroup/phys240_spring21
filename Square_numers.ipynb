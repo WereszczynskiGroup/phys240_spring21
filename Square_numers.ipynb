{
  "nbformat": 4,
  "nbformat_minor": 0,
  "metadata": {
    "colab": {
      "name": "Square-numers.ipynb",
      "provenance": [],
      "authorship_tag": "ABX9TyN7Q5pmTdkr+dYFdIGk7aDc",
      "include_colab_link": true
    },
    "kernelspec": {
      "name": "python3",
      "display_name": "Python 3"
    }
  },
  "cells": [
    {
      "cell_type": "markdown",
      "metadata": {
        "id": "view-in-github",
        "colab_type": "text"
      },
      "source": [
        "<a href=\"https://colab.research.google.com/github/WereszczynskiGroup/phys240_spring21/blob/main/Square_numers.ipynb\" target=\"_parent\"><img src=\"https://colab.research.google.com/assets/colab-badge.svg\" alt=\"Open In Colab\"/></a>"
      ]
    },
    {
      "cell_type": "markdown",
      "metadata": {
        "id": "GOtL5P7HbKqB"
      },
      "source": [
        ""
      ]
    },
    {
      "cell_type": "markdown",
      "metadata": {
        "id": "vDGcyGr4bBTb"
      },
      "source": [
        "As an \"assignment\" square the array of numbers below and print it out"
      ]
    },
    {
      "cell_type": "code",
      "metadata": {
        "id": "6EEAOhU5a3R4"
      },
      "source": [
        "import numpy as np\n",
        "x=np.array([1,2,3,4,5])"
      ],
      "execution_count": 1,
      "outputs": []
    }
  ]
}